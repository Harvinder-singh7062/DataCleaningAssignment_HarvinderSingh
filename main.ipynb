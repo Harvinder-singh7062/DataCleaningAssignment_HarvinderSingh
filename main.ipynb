{
 "cells": [
  {
   "cell_type": "code",
   "execution_count": 7,
   "metadata": {},
   "outputs": [
    {
     "ename": "AttributeError",
     "evalue": "'NoneType' object has no attribute 'to_csv'",
     "output_type": "error",
     "traceback": [
      "\u001b[31m---------------------------------------------------------------------------\u001b[39m",
      "\u001b[31mAttributeError\u001b[39m                            Traceback (most recent call last)",
      "\u001b[36mCell\u001b[39m\u001b[36m \u001b[39m\u001b[32mIn[7]\u001b[39m\u001b[32m, line 19\u001b[39m\n\u001b[32m     16\u001b[39m clean_data = dp.remove_redundant_features(clean_data)\n\u001b[32m     18\u001b[39m  \u001b[38;5;66;03m#3. Save the cleaned dataset\u001b[39;00m\n\u001b[32m---> \u001b[39m\u001b[32m19\u001b[39m \u001b[43mclean_data\u001b[49m\u001b[43m.\u001b[49m\u001b[43mto_csv\u001b[49m(\u001b[33m'\u001b[39m\u001b[33m../Data/clean_data.csv\u001b[39m\u001b[33m'\u001b[39m, index=\u001b[38;5;28;01mFalse\u001b[39;00m)\n\u001b[32m     21\u001b[39m  \u001b[38;5;66;03m#4. Train and evaluate the model\u001b[39;00m\n\u001b[32m     22\u001b[39m simple_model(clean_data)\n",
      "\u001b[31mAttributeError\u001b[39m: 'NoneType' object has no attribute 'to_csv'"
     ]
    }
   ],
   "source": [
    " #making a change to the code\n",
    " #Import necessary modules\n",
    "import data_preprocessor as dp\n",
    "import pandas as pd\n",
    "from sklearn.linear_model import LogisticRegression\n",
    "from sklearn.metrics import accuracy_score\n",
    "\n",
    " #1. Load the dataset\n",
    "messy_data = pd.read_csv('../Data/messy_data.csv')\n",
    "clean_data = messy_data.copy()\n",
    "\n",
    " #2. Preprocess the data\n",
    "clean_data = dp.impute_missing_values(clean_data, strategy='mean')\n",
    "clean_data = dp.remove_duplicates(clean_data)\n",
    "clean_data = dp.normalize_data(clean_data)\n",
    "clean_data = dp.remove_redundant_features(clean_data)\n",
    "\n",
    " #3. Save the cleaned dataset\n",
    "clean_data.to_csv('../Data/clean_data.csv', index=False)\n",
    "\n",
    " #4. Train and evaluate the model\n",
    "simple_model(clean_data)"
   ]
  }
 ],
 "metadata": {
  "kernelspec": {
   "display_name": "default",
   "language": "python",
   "name": "python3"
  },
  "language_info": {
   "codemirror_mode": {
    "name": "ipython",
    "version": 3
   },
   "file_extension": ".py",
   "mimetype": "text/x-python",
   "name": "python",
   "nbconvert_exporter": "python",
   "pygments_lexer": "ipython3",
   "version": "3.13.3"
  }
 },
 "nbformat": 4,
 "nbformat_minor": 2
}
