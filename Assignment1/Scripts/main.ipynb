{
 "cells": [
  {
   "cell_type": "code",
   "execution_count": 2,
   "metadata": {},
   "outputs": [
    {
     "ename": "AttributeError",
     "evalue": "'NoneType' object has no attribute 'dropna'",
     "output_type": "error",
     "traceback": [
      "\u001b[31m---------------------------------------------------------------------------\u001b[39m",
      "\u001b[31mAttributeError\u001b[39m                            Traceback (most recent call last)",
      "\u001b[36mCell\u001b[39m\u001b[36m \u001b[39m\u001b[32mIn[2]\u001b[39m\u001b[32m, line 22\u001b[39m\n\u001b[32m     16\u001b[39m clean_data = dp.remove_redundant_features(clean_data)\n\u001b[32m     18\u001b[39m \u001b[38;5;66;03m# 3. Save the cleaned dataset\u001b[39;00m\n\u001b[32m     19\u001b[39m \u001b[38;5;66;03m# clean_data.to_csv('../Data/clean_data.csv', index=False)\u001b[39;00m\n\u001b[32m     20\u001b[39m \n\u001b[32m     21\u001b[39m \u001b[38;5;66;03m# 4. Train and evaluate the model\u001b[39;00m\n\u001b[32m---> \u001b[39m\u001b[32m22\u001b[39m \u001b[43mdp\u001b[49m\u001b[43m.\u001b[49m\u001b[43msimple_model\u001b[49m\u001b[43m(\u001b[49m\u001b[43mclean_data\u001b[49m\u001b[43m)\u001b[49m\n",
      "\u001b[36mFile \u001b[39m\u001b[32mc:\\Users\\s22su\\Documents\\BINF Data Mining\\DataCleaningAssignment_HarvinderSingh\\Assignment1\\Scripts\\data_preprocessor.py:74\u001b[39m, in \u001b[36msimple_model\u001b[39m\u001b[34m(input_data, split_data, scale_data, print_report)\u001b[39m\n\u001b[32m     52\u001b[39m \u001b[38;5;250m\u001b[39m\u001b[33;03m\"\"\"\u001b[39;00m\n\u001b[32m     53\u001b[39m \u001b[33;03mA simple logistic regression model for target classification.\u001b[39;00m\n\u001b[32m     54\u001b[39m \u001b[33;03mParameters:\u001b[39;00m\n\u001b[32m   (...)\u001b[39m\u001b[32m     70\u001b[39m \u001b[33;03m9. Prints the accuracy and classification report (if print_report is True).\u001b[39;00m\n\u001b[32m     71\u001b[39m \u001b[33;03m\"\"\"\u001b[39;00m\n\u001b[32m     73\u001b[39m \u001b[38;5;66;03m# if there's any missing data, remove the columns\u001b[39;00m\n\u001b[32m---> \u001b[39m\u001b[32m74\u001b[39m \u001b[43minput_data\u001b[49m\u001b[43m.\u001b[49m\u001b[43mdropna\u001b[49m(inplace=\u001b[38;5;28;01mTrue\u001b[39;00m)\n\u001b[32m     76\u001b[39m \u001b[38;5;66;03m# split the data into features and target\u001b[39;00m\n\u001b[32m     77\u001b[39m target = input_data.copy()[input_data.columns[\u001b[32m0\u001b[39m]]\n",
      "\u001b[31mAttributeError\u001b[39m: 'NoneType' object has no attribute 'dropna'"
     ]
    }
   ],
   "source": [
    "# making a change to the code\n",
    "# Import necessary modules\n",
    "import data_preprocessor as dp\n",
    "import pandas as pd\n",
    "from sklearn.linear_model import LogisticRegression\n",
    "from sklearn.metrics import accuracy_score\n",
    "\n",
    "# 1. Load the dataset\n",
    "messy_data = pd.read_csv('../Data/messy_data.csv')\n",
    "clean_data = messy_data.copy()\n",
    "\n",
    "# 2. Preprocess the data\n",
    "clean_data = dp.impute_missing_values(clean_data, strategy='mean')\n",
    "clean_data = dp.remove_duplicates(clean_data)\n",
    "clean_data = dp.normalize_data(clean_data)\n",
    "clean_data = dp.remove_redundant_features(clean_data)\n",
    "\n",
    "# 3. Save the cleaned dataset\n",
    "# clean_data.to_csv('../Data/clean_data.csv', index=False)\n",
    "\n",
    "# 4. Train and evaluate the model\n",
    "dp.simple_model(clean_data)"
   ]
  },
  {
   "cell_type": "code",
   "execution_count": null,
   "metadata": {},
   "outputs": [],
   "source": [
    "clean_data = messy_data.copy()\n",
    "\n",
    "'''\n",
    "1. Identify columns that are missing >25% of the data and drop them (not the target).\n",
    "2. Remove rows that are missing target values.\n",
    "3. Remove duplicate rows.\n",
    "4. Impute missing values in the remaining columns using mean for numerical and mode for categorical.\n",
    "5. Normalize numerical features.\n",
    "6. Remove redundant features (e.g., highly correlated features).\n",
    "'''\n",
    "# testing\n"
   ]
  }
 ],
 "metadata": {
  "kernelspec": {
   "display_name": "default",
   "language": "python",
   "name": "python3"
  },
  "language_info": {
   "codemirror_mode": {
    "name": "ipython",
    "version": 3
   },
   "file_extension": ".py",
   "mimetype": "text/x-python",
   "name": "python",
   "nbconvert_exporter": "python",
   "pygments_lexer": "ipython3",
   "version": "3.13.3"
  }
 },
 "nbformat": 4,
 "nbformat_minor": 2
}
